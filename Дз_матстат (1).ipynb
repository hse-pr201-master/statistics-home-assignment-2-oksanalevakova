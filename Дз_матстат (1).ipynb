{
 "cells": [
  {
   "cell_type": "code",
   "execution_count": 1,
   "id": "f9b0f704",
   "metadata": {},
   "outputs": [],
   "source": [
    "# загрузка необходимых библиотек\n",
    "import pandas as pd \n",
    "import numpy as np\n",
    "import scipy.stats as sts\n",
    "import math\n",
    "from scipy.stats import t\n",
    "\n",
    "import matplotlib.pyplot as plt\n",
    "import seaborn as sns\n",
    "\n",
    "import warnings\n",
    "warnings.filterwarnings(\"ignore\")\n",
    "\n",
    "sns.set_theme(style=\"whitegrid\", palette=\"muted\")\n",
    "\n",
    "alpha = 0.05"
   ]
  },
  {
   "cell_type": "markdown",
   "id": "9ce61a30",
   "metadata": {},
   "source": [
    "**1 ЗАДАЧА**"
   ]
  },
  {
   "cell_type": "code",
   "execution_count": 2,
   "id": "a17f2ba5",
   "metadata": {},
   "outputs": [],
   "source": [
    "# пункт а)\n",
    "\n",
    "order = 10\n",
    "lst = []\n",
    "for i in range(1, 1001):\n",
    "    a = 1\n",
    "    for j in range(1, order - 1):\n",
    "        a *= (i-j) / i\n",
    "    a *= (order - 1) / i\n",
    "    lst.append(a)"
   ]
  },
  {
   "cell_type": "code",
   "execution_count": 3,
   "id": "f6ca5ee5",
   "metadata": {},
   "outputs": [
    {
     "data": {
      "image/png": "[encoded data removed]",
      "text/plain": [
       "<Figure size 432x288 with 1 Axes>"
      ]
     },
     "metadata": {},
     "output_type": "display_data"
    }
   ],
   "source": [
    "plt.plot(list(range(1, 1001)), lst)\n",
    "plt.xlabel('Количество n таксистов')\n",
    "plt.ylabel('Значение функции')\n",
    "plt.title('Оценка ML:'+ str(np.argmax(lst) + 1));"
   ]
  },
  {
   "cell_type": "code",
   "execution_count": null,
   "id": "fdc7905d",
   "metadata": {},
   "outputs": [],
   "source": [
    "# пункт б)\n",
    "\n",
    "lst_E = []\n",
    "for i in range(1, 1001):\n",
    "    cnt = 0\n",
    "    for h in range(1, 1001):\n",
    "        a = 1\n",
    "        if h == 1:\n",
    "            a = 1\n",
    "        else:\n",
    "            for j in range(1, h-1):\n",
    "                a *= (i-j) / i\n",
    "            a *= (h-1)/i\n",
    "            cnt += (h*a)\n",
    "    lst_E.append(cnt)"
   ]
  },
  {
   "cell_type": "code",
   "execution_count": null,
   "id": "1ba9629f",
   "metadata": {},
   "outputs": [],
   "source": [
    "plt.plot(list(range(1, 1001)), lst_E)\n",
    "plt.xlabel('Количество n таксистов')\n",
    "plt.ylabel('Математическое ожидание')\n",
    "plt.title('Оценка MM:'+ str(np.argmin(abs(np.array(lst_E)-10)) + 1));"
   ]
  },
  {
   "cell_type": "markdown",
   "id": "5c2e498c",
   "metadata": {},
   "source": [
    "**3 ЗАДАЧА**"
   ]
  },
  {
   "cell_type": "code",
   "execution_count": null,
   "id": "53220b04",
   "metadata": {},
   "outputs": [],
   "source": [
    "# загрузка распределений\n",
    "\n",
    "np.random.seed(289)\n",
    "\n",
    "n_sim = 10**4\n",
    "n_obs = 20\n",
    "\n",
    "exp_dist = sts.expon.rvs(scale = 1, size = (n_sim, n_obs))\n",
    "t_dist = t.rvs(df = 3, size = (n_sim, n_obs))"
   ]
  },
  {
   "cell_type": "code",
   "execution_count": null,
   "id": "b616f535",
   "metadata": {},
   "outputs": [],
   "source": [
    "# пункт а)\n",
    "\n",
    "# классический асимтотический ДИ\n",
    "\n",
    "cnt = 0\n",
    "for i in range(n_sim):\n",
    "    DI_classic = sts.norm.interval(1 - alpha, loc = np.mean(exp_dist[i]), scale = np.std(exp_dist[i], ddof = 1) / np.sqrt(20))\n",
    "    if DI_classic[0] <= 1 <= DI_classic[1]:\n",
    "        cnt += 1\n",
    "cnt / n_sim"
   ]
  },
  {
   "cell_type": "code",
   "execution_count": null,
   "id": "ba7c2115",
   "metadata": {},
   "outputs": [],
   "source": [
    "# наивный бутстрэп\n",
    "\n",
    "np.random.seed(289)\n",
    "cnt = 0\n",
    "for i in exp_dist:\n",
    "    boot_naive = np.random.choice(i.flatten(), size = (n_sim, n_obs), replace=True)\n",
    "    boot_naive_mean = np.mean(boot_naive, axis = 1)\n",
    "    DI_naive = np.percentile(boot_naive_mean, [alpha/2, 1-alpha/2])\n",
    "    if DI_naive[0] <= 1 <= DI_naive[1]:\n",
    "        cnt += 1\n",
    "cnt / n_sim"
   ]
  },
  {
   "cell_type": "code",
   "execution_count": null,
   "id": "b93759cb",
   "metadata": {},
   "outputs": [],
   "source": [
    "# бутстрэп t-статистики\n",
    "\n",
    "cnt = 0\n",
    "exp_dist_mean = np.mean(exp_dist)\n",
    "exp_dist_std = np.std(exp_dist)\n",
    "for i in exp_dist:\n",
    "    boot_t = np.random.choice(i.flatten(), size = (n_sim, n_obs))\n",
    "    boot_t_mean = np.mean(boot_t, axis = 1)\n",
    "    boot_t_std = np.std(boot_t, axis = 1, ddof = 1)\n",
    "    \n",
    "    sth = (boot_t_mean - exp_dist_mean) / (boot_t_std/np.sqrt(n_obs))\n",
    "    DI_t = exp_dist_mean - np.percentile(sth, [alpha/2, 1-alpha/2]) * (exp_dist_std/np.sqrt(n_obs))\n",
    "    if DI_t[0] <= 1 <= DI_t[1]:\n",
    "        cnt += 1\n",
    "        \n",
    "cnt / n_sim"
   ]
  },
  {
   "cell_type": "markdown",
   "id": "3db6f7fe",
   "metadata": {},
   "source": [
    "**Вывод:** Таким образом, для каждого способа с помощью 10000 симуляций мы оценили вероятность того, что номинально 95%-й доверительный интервал фактически накрывает математическое ожидание, если наблюдения распределены экспоненциально с интенсивностью 1."
   ]
  },
  {
   "cell_type": "code",
   "execution_count": null,
   "id": "740938ea",
   "metadata": {},
   "outputs": [],
   "source": [
    "# пункт б)\n",
    "\n",
    "# классический асимтотический ДИ\n",
    "\n",
    "cnt = 0\n",
    "for i in range(n_sim):\n",
    "    DI_classic = sts.norm.interval(1 - alpha, loc = np.mean(t_dist[i]), scale = np.std(t_dist[i], ddof = 1) / np.sqrt(20))\n",
    "    if DI_classic[0] <= 1 <= DI_classic[1]:\n",
    "        cnt += 1\n",
    "cnt / n_sim"
   ]
  },
  {
   "cell_type": "code",
   "execution_count": null,
   "id": "6b92f2cd",
   "metadata": {},
   "outputs": [],
   "source": [
    "# наивный бутстрэп\n",
    "\n",
    "np.random.seed(289)\n",
    "cnt = 0\n",
    "for i in t_dist:\n",
    "    boot_naive = np.random.choice(i.flatten(), size = (n_sim, n_obs), replace=True)\n",
    "    boot_naive_mean = np.mean(boot_naive, axis = 1)\n",
    "    DI_naive = np.percentile(boot_naive_mean, [alpha/2, 1-alpha/2])\n",
    "    if DI_naive[0] <= 1 <= DI_naive[1]:\n",
    "        cnt += 1\n",
    "cnt / n_sim"
   ]
  },
  {
   "cell_type": "code",
   "execution_count": null,
   "id": "59cb325f",
   "metadata": {},
   "outputs": [],
   "source": [
    "# бутстрэп t-статистики\n",
    "\n",
    "cnt = 0\n",
    "exp_dist_mean = np.mean(t_dist)\n",
    "exp_dist_std = np.std(t_dist)\n",
    "for i in exp_dist:\n",
    "    boot_t = np.random.choice(i.flatten(), size = (n_sim, n_obs))\n",
    "    boot_t_mean = np.mean(boot_t, axis = 1)\n",
    "    boot_t_std = np.std(boot_t, axis = 1, ddof = 1)\n",
    "    \n",
    "    sth = (boot_t_mean - exp_dist_mean) / (boot_t_std/np.sqrt(n_obs))\n",
    "    DI_t = exp_dist_mean - np.percentile(sth, [alpha/2, 1-alpha/2]) * (exp_dist_std/np.sqrt(n_obs))\n",
    "    if DI_t[0] <= 1 <= DI_t[1]:\n",
    "        cnt += 1\n",
    "        \n",
    "cnt / n_sim"
   ]
  },
  {
   "cell_type": "markdown",
   "id": "cba823f9",
   "metadata": {},
   "source": [
    "Пункт в) Как мы видим, при t-распределении результаты лучше."
   ]
  },
  {
   "cell_type": "code",
   "execution_count": null,
   "id": "ca2c7efd",
   "metadata": {},
   "outputs": [],
   "source": [
    "\n",
    "\n",
    "np.random.seed(123435)\n",
    "c = 0\n",
    "mm = np.mean(innoe)\n",
    "sstd = np.std(innoe)\n",
    "for i in innoe:\n",
    "    boot = np.random.choice(i.flatten(), size=(10000, 20), replace=True)\n",
    "    bm = np.mean(boot, axis = 1)\n",
    "    bstd = np.std(boot, axis = 1, ddof = 1)\n",
    "    ts = (bm - mm)/ (bstd/np.sqrt(20))\n",
    "    di = mm - np.percentile(ts, [97.5, 2.5]) * (sstd / np.sqrt(20))\n",
    "    if di[0] <= 1 <= di[1]:\n",
    "        c += 1\n",
    "print('бутстрап t-статистики:', c/10000)"
   ]
  },
  {
   "cell_type": "markdown",
   "id": "cb3da014",
   "metadata": {},
   "source": [
    "**4 ЗАДАЧА**"
   ]
  },
  {
   "cell_type": "code",
   "execution_count": null,
   "id": "0842fd9a",
   "metadata": {},
   "outputs": [],
   "source": [
    "# загрузим датасет\n",
    "\n",
    "df = pd.read_csv('22-23_hse_probability - Exam.csv')\n",
    "df = df[['Last name', 'Unnamed: 74']].iloc[5:]\n",
    "df.columns = ['Фамилия', 'Балл']\n",
    "df = df.loc[df['Балл'] != 'неявка']\n",
    "df = df.reset_index().drop(['index'], axis = 1)\n",
    "df['Балл'] = [int(i) for i in df['Балл']]\n",
    "df"
   ]
  },
  {
   "cell_type": "code",
   "execution_count": null,
   "id": "81fc767a",
   "metadata": {},
   "outputs": [],
   "source": [
    "glas_all = ['А', 'У', 'О', 'Ы', 'И', 'Э', 'Я', 'Ю', 'Ё', 'Е']\n",
    "\n",
    "# баллы студентов с первой гласной буквой фамилии\n",
    "glas = df[df['Фамилия'].str[0].isin(glas_all)]['Балл'].tolist()\n",
    "glas = [int(i) for i in glas]\n",
    "print(glas[:10])\n",
    "\n",
    "# баллы студентов с первой согласной буквой фамилии\n",
    "soglas = df[~df['Фамилия'].str[0].isin(glas_all)]['Балл'].tolist()\n",
    "soglas = [int(i) for i in soglas]\n",
    "print(soglas[:10])"
   ]
  },
  {
   "cell_type": "code",
   "execution_count": null,
   "id": "f7990620",
   "metadata": {},
   "outputs": [],
   "source": [
    "# пункт а) тест Уэлча\n",
    "\n",
    "stat_4_a, p_value_4_a = sts.ttest_ind(glas, soglas)\n",
    "p_value_4_a"
   ]
  },
  {
   "cell_type": "markdown",
   "id": "f723a165",
   "metadata": {},
   "source": [
    "**Вывод:** P-значение, равное примерно 0.36, сильно больше уровня значимости 0.05, значит, нулевая гипотеза не отвергается - ожидаемые результаты экзамена по теории вероятностей тех, у кого фамилия начинается с гласной буквы и с согласной буквы, равны."
   ]
  },
  {
   "cell_type": "code",
   "execution_count": null,
   "id": "5ad4dd6a",
   "metadata": {
    "scrolled": true
   },
   "outputs": [],
   "source": [
    "# пункт б) наивный бутстрэп\n",
    "\n",
    "np.random.seed(289)\n",
    "\n",
    "# функция для генерации выборок\n",
    "def boots_samples(x):\n",
    "    return np.random.choice(x, size = len(x))\n",
    "\n",
    "# разница между средними значениями сгенерированных выборок\n",
    "n_sim = 10**4\n",
    "diff_mean_samp = []\n",
    "for i in range(n_sim):\n",
    "    glas_samp = boots_samples(glas)\n",
    "    soglas_samp = boots_samples(soglas)\n",
    "    diff_mean = np.mean(glas_samp) - np.mean(soglas_samp)\n",
    "    diff_mean_samp.append(diff_mean)\n",
    "\n",
    "# наблюдаемая разница в средних значениях\n",
    "diff_mean_true = np.mean(glas) - np.mean(soglas)\n",
    "\n",
    "# p-значение\n",
    "p_value_4_b = np.sum(np.abs(diff_mean_samp) >= np.abs(diff_mean_true)) / n_sim\n",
    "p_value_4_b"
   ]
  },
  {
   "cell_type": "markdown",
   "id": "78c107f7",
   "metadata": {},
   "source": [
    "**Вывод:** P-значение, равное примерно 0.53, сильно больше уровня значимости 0.05, значит, нулевая гипотеза не отвергается - ожидаемые результаты экзамена по теории вероятностей тех, у кого фамилия начинается с гласной буквы и с согласной буквы, равны."
   ]
  },
  {
   "cell_type": "code",
   "execution_count": null,
   "id": "ae36a6d4",
   "metadata": {},
   "outputs": [],
   "source": [
    "# пункт в) бутстрэп t-статистики\n",
    "\n",
    "np.random.seed(289)\n",
    "\n",
    "# функция для генерации выборок\n",
    "def boots_samples(x):\n",
    "    return np.random.choice(x, size = len(x))\n",
    "\n",
    "# t-статистика сгенерированных значений выборок\n",
    "n_sim = 10**4\n",
    "t_stat_samp = []\n",
    "for i in range(n_sim):\n",
    "    # выборки\n",
    "    glas_samp = boots_samples(glas)\n",
    "    soglas_samp = boots_samples(soglas)\n",
    "    \n",
    "    # всё для формулы\n",
    "    diff_mean = np.mean(glas_samp) - np.mean(soglas_samp)\n",
    "    n_glas = len(glas_samp)\n",
    "    n_soglas = len(soglas_samp)\n",
    "    var_0 = np.sum((glas_samp - np.mean(glas_samp))**2) + np.sum((soglas_samp - np.mean(soglas_samp))**2) / (n_glas + n_soglas - 2)\n",
    "    \n",
    "    # сами t-статистики\n",
    "    t_stat = diff_mean / math.sqrt(var_0*(1/n_glas + 1/n_soglas))\n",
    "    t_stat_samp.append(t_stat)\n",
    "\n",
    "# наблюдаемая t-статистика\n",
    "diff_mean_true = np.mean(glas) - np.mean(soglas)\n",
    "var_0_true = np.sum((glas - np.mean(glas))**2) + np.sum((soglas - np.mean(soglas))**2) / (n_glas + n_soglas - 2)\n",
    "\n",
    "t_stat_true = diff_mean_true / math.sqrt(var_0_true*(1/n_glas + 1/n_soglas))\n",
    "\n",
    "# p-значение\n",
    "p_value_4_c = np.sum(np.abs(t_stat_samp) >= np.abs(t_stat_true)) / n_sim\n",
    "p_value_4_c"
   ]
  },
  {
   "cell_type": "markdown",
   "id": "259aa636",
   "metadata": {},
   "source": [
    "**Вывод:** P-значение, равное примерно 0.54, сильно больше уровня значимости 0.05, значит, нулевая гипотеза не отвергается - ожидаемые результаты экзамена по теории вероятностей тех, у кого фамилия начинается с гласной буквы и с согласной буквы, равны."
   ]
  },
  {
   "cell_type": "code",
   "execution_count": null,
   "id": "4ad5484f",
   "metadata": {},
   "outputs": [],
   "source": [
    "# пункт г) перестановочный тест\n",
    "\n",
    "np.random.seed(289)\n",
    "data = np.concatenate([glas, soglas])\n",
    "\n",
    "# разница между средними значениями перемешанных выборок\n",
    "n_sim = 10**4\n",
    "diff_mean_permut = []\n",
    "for i in range(n_sim):\n",
    "    np.random.shuffle(data)\n",
    "    diff_mean_permut_i = np.mean(data[:len(soglas)]) - np.mean(data[len(soglas):])\n",
    "    diff_mean_permut.append(diff_mean_permut_i)\n",
    "\n",
    "# наблюдаемая разница в средних значениях\n",
    "diff_mean_true = np.mean(glas) - np.mean(soglas)\n",
    "\n",
    "# p-значение\n",
    "p_value_4_d = np.sum(np.abs(diff_mean_permut) >= np.abs(diff_mean_true)) / n_sim\n",
    "p_value_4_d"
   ]
  },
  {
   "cell_type": "markdown",
   "id": "b1d19f0f",
   "metadata": {},
   "source": [
    "**Вывод:** P-значение, равное примерно 0.36, сильно больше уровня значимости 0.05, значит, нулевая гипотеза не отвергается - ожидаемые результаты экзамена по теории вероятностей тех, у кого фамилия начинается с гласной буквы и с согласной буквы, равны."
   ]
  },
  {
   "cell_type": "markdown",
   "id": "dbef94f2",
   "metadata": {},
   "source": [
    "**5 ЗАДАЧА**"
   ]
  },
  {
   "cell_type": "code",
   "execution_count": null,
   "id": "41663a6f",
   "metadata": {},
   "outputs": [],
   "source": [
    "# таблица сопряжённости\n",
    "\n",
    "glas_more = len([i for i in glas if i > df['Балл'].median()])\n",
    "glas_less = len([i for i in glas if i <= df['Балл'].median()])\n",
    "soglas_more = len([i for i in soglas if i > df['Балл'].median()])\n",
    "soglas_less = len([i for i in soglas if i <= df['Балл'].median()])\n",
    "\n",
    "matrix = np.array([[glas_more, glas_less], [soglas_more, soglas_less]])\n",
    "matrix"
   ]
  },
  {
   "cell_type": "code",
   "execution_count": null,
   "id": "c31807dc",
   "metadata": {},
   "outputs": [],
   "source": [
    "# пункт a) CI для отношения шансов\n",
    "\n",
    "# шансы успешной сдачи экзамена\n",
    "odds_glas = glas_more / glas_less\n",
    "odds_soglas = soglas_more / soglas_less\n",
    "\n",
    "# необходимые расчёты\n",
    "ln_OR = np.log(odds_glas / odds_soglas)\n",
    "se_ln_OR = np.sqrt(1/glas_more + 1/glas_less + 1/soglas_more + 1/soglas_less)\n",
    "\n",
    "# z-критическое\n",
    "z_crit = sts.norm.ppf(1 - alpha/2)\n",
    "\n",
    "# z-наблюдаемое\n",
    "z_obs_5_a = ln_OR / se_ln_OR\n",
    "\n",
    "# границы ДИ и p-значение\n",
    "q_l_odds = np.exp(ln_OR - z_crit*se_ln_OR)\n",
    "q_r_odds = np.exp(ln_OR + z_crit*se_ln_OR)\n",
    "p_value_5_a = 2*(sts.norm.cdf(z_obs_5_a))\n",
    "\n",
    "q_l_odds, q_r_odds, p_value_5_a"
   ]
  },
  {
   "cell_type": "markdown",
   "id": "d0c49b72",
   "metadata": {},
   "source": [
    "**Вывод:** P-значение, равное примерно 0.36, сильно больше уровня значимости 0.05, значит, нулевая гипотеза не отвергается - отношение шансов набрать больше медианы баллов за экзамен по теории вероятностей в зависимости от того, на согласную или гласную букву начинается фамилия студента, равно 1."
   ]
  },
  {
   "cell_type": "code",
   "execution_count": null,
   "id": "44786798",
   "metadata": {},
   "outputs": [],
   "source": [
    "# пункт b) CI для отношения вероятностей\n",
    "\n",
    "# вероятность успешной сдачи экзамена\n",
    "n_glas = matrix[0].sum()\n",
    "n_soglas = matrix[1].sum()\n",
    "\n",
    "p_glas = glas_more / n_glas\n",
    "p_soglas = soglas_more / n_soglas\n",
    "\n",
    "# необходимые расчёты\n",
    "ln_p = np.log(p_glas / p_soglas)\n",
    "se_ln_p = np.sqrt(1/(glas_more + glas_less) + 1/(soglas_more + soglas_less))\n",
    "\n",
    "# z-критическое\n",
    "z_crit = sts.norm.ppf(1 - alpha/2)\n",
    "\n",
    "# z-наблюдаемое\n",
    "z_obs_5_b = ln_p / se_ln_p\n",
    "\n",
    "# границы ДИ и p-значение\n",
    "q_l_p = np.exp(ln_p - z_crit*se_ln_p)\n",
    "q_r_p = np.exp(ln_p + z_crit*se_ln_p)\n",
    "p_value_5_b = 2*(sts.norm.cdf(z_obs_5_b))\n",
    "\n",
    "q_l_p, q_r_p, p_value_5_b"
   ]
  },
  {
   "cell_type": "markdown",
   "id": "70835be1",
   "metadata": {},
   "source": [
    "**Вывод:** P-значение, равное примерно 0.79, сильно больше уровня значимости 0.05, значит, нулевая гипотеза не отвергается - отношение вероятностей набрать больше медианы баллов за экзамен по теории вероятностей в зависимости от того, на согласную или гласную букву начинается фамилия студента, равно 1."
   ]
  },
  {
   "cell_type": "code",
   "execution_count": null,
   "id": "6a12f9e0",
   "metadata": {},
   "outputs": [],
   "source": [
    "# # пункт c) наивный бутстрэп\n",
    "\n",
    "# np.random.seed(289)\n",
    "\n",
    "# # функция для генерации выборок\n",
    "# def boot_gl_sg(x, B_sample = 1):\n",
    "#     N = x.size\n",
    "#     return np.random.choice(x, size = (N, B_sample))\n",
    "\n",
    "#     if B_sample\n",
    "\n",
    "# # разница между средними значениями сгенерированных выборок\n",
    "# n_sim = 10**4\n",
    "# odds = []\n",
    "# for i in range(n_sim):\n",
    "#     glas_boot = boot_gl_sg(glas)\n",
    "#     soglas_boot = boot_gl_sg(soglas)\n",
    "    \n",
    "\n",
    "# # # наблюдаемая разница в средних значениях\n",
    "# # diff_mean_true = np.mean(glas) - np.mean(soglas)\n",
    "\n",
    "# # # p-значение\n",
    "# # p_value_4_b = np.sum(np.abs(diff_mean_samp) >= np.abs(diff_mean_true)) / n_sim\n",
    "# # p_value_4_b"
   ]
  },
  {
   "cell_type": "markdown",
   "id": "1a50675f",
   "metadata": {},
   "source": [
    "**6 ЗАДАЧА**"
   ]
  },
  {
   "cell_type": "code",
   "execution_count": null,
   "id": "0f8dd2b5",
   "metadata": {},
   "outputs": [],
   "source": [
    "length = df['Фамилия'].apply(lambda x: len(x))\n",
    "df['Длина фамилии'] = length\n",
    "df.head()"
   ]
  },
  {
   "cell_type": "code",
   "execution_count": null,
   "id": "26c5fe4c",
   "metadata": {},
   "outputs": [],
   "source": [
    "# пункт а) метод моментов и выборочная корреляция\n",
    "\n",
    "# выборочная корреляция \n",
    "\n",
    "corr = sts.pearsonr(df['Длина фамилии'], df['Балл'])[0]\n",
    "corr"
   ]
  },
  {
   "cell_type": "code",
   "execution_count": null,
   "id": "04e7b7fa",
   "metadata": {},
   "outputs": [],
   "source": [
    "# необходимые вычисления\n",
    "F_sum = df['Длина фамилии'].sum()\n",
    "Y_mean = df['Балл'].mean()\n",
    "\n",
    "# оценка бета методом моментов\n",
    "Y_mean / (F_sum/len(df))"
   ]
  },
  {
   "cell_type": "code",
   "execution_count": null,
   "id": "719c1ab8",
   "metadata": {},
   "outputs": [],
   "source": [
    "# пункт б) перестановочный тест\n",
    "\n",
    "np.random.seed(289)\n",
    "\n",
    "# необходимые вычисления\n",
    "n_sim = 10**4\n",
    "corr_samp = []\n",
    "for i in range(n_sim):\n",
    "    scores = np.random.permutation(df['Балл'])\n",
    "    pears = sts.pearsonr(df['Длина фамилии'], scores)[0]\n",
    "    corr_samp.append(pears)\n",
    "\n",
    "# границы ДИ\n",
    "q_r_pear = len([x for x in corr_samp if x >= corr])\n",
    "q_l_pear = len([x for x in corr_samp if x < corr])\n",
    "\n",
    "# p-значение\n",
    "p_value_6 = 2*min(q_r_pear/n_sim, q_l_pear/n_sim)\n",
    "p_value_6"
   ]
  },
  {
   "cell_type": "markdown",
   "id": "8b8fc6e1",
   "metadata": {},
   "source": [
    "**Вывод:** P-значение, равное примерно 0.58, сильно больше уровня значимости 0.05, значит, нулевая гипотеза не отвергается - корреляция равна нулю."
   ]
  },
  {
   "cell_type": "markdown",
   "id": "b0db30d3",
   "metadata": {},
   "source": [
    "**7 ЗАДАЧА**"
   ]
  },
  {
   "cell_type": "markdown",
   "id": "05d8c753",
   "metadata": {},
   "source": [
    "**Вопрос мой:** Пусть X1 , . . . , Xn — случайная выборка из распределения Бернулли с параметром p. Используя реализацию случайной выборки X1, . . . , Xn, в которой 55 нулей и 45 единиц, постройте приближенный 95%-ый доверительный интервал для неизвестного параметра p."
   ]
  },
  {
   "cell_type": "markdown",
   "id": "dd1f4e69",
   "metadata": {},
   "source": [
    "**Ответ Chat GPT:** Чтобы построить доверительный интервал для неизвестного параметра p, мы можем использовать пропорцию выборки, которая определяется как:\n",
    "\n",
    "p̂ = (количество единиц в выборке) / n\n",
    "\n",
    "В этом случае у нас есть n=100 и 45 единиц, поэтому:\n",
    "\n",
    "р̂ = 45/100 = 0,45\n",
    "\n",
    "Чтобы получить приблизительный 95% доверительный интервал для p, мы можем использовать следующую формулу:\n",
    "\n",
    "p̂ ± zα/2 √(p̂(1-p̂) / n)\n",
    "\n",
    "где zα/2 — это z-показатель, соответствующий уровню значимости α/2, а n — размер выборки.\n",
    "\n",
    "Для 95% доверительного интервала α/2 = 0,025, поэтому zα/2 = 1,96. Подставляя значения, получаем:\n",
    "\n",
    "0,45 ± 1,96 √(0,45(1-0,45)/100)\n",
    "\n",
    "Упрощая, получаем:\n",
    "\n",
    "0,45 ± 0,098\n",
    "\n",
    "Следовательно, приблизительный 95% доверительный интервал для p составляет [0,352, 0,548]."
   ]
  },
  {
   "cell_type": "markdown",
   "id": "3a9754f3",
   "metadata": {},
   "source": [
    "**8 ЗАДАЧА**"
   ]
  },
  {
   "cell_type": "markdown",
   "id": "5ba09aa2",
   "metadata": {},
   "source": [
    "Из полезных материалов, которыми я пользовалась в течение года, могу назвать несколько: \n",
    "- конспекты отсюда (https://drive.google.com/drive/folders/1zEYbv0Gr60Og2mdejojhnPcrTeZg9Os7?usp=sharing) \n",
    "- тесты отсюда (https://botatmatstat.github.io/index.html?theme=NaN)\n",
    "\n",
    "Эти материалы просто помогли мне лучше понять некоторые темы (например, лучше разобраться с распределениями и функциями плотности). На нашем курсе очень не хватало каких-то мини-задачек, которые структурируют знания, данные же доп. источники отчасти исправили эту проблему. На самом деле почти в любом предмете важно получать информацию из разных источников (по этой же причине в первом семестре я посещала пары как ИП, так и БП)."
   ]
  }
 ],
 "metadata": {
  "kernelspec": {
   "display_name": "Python 3 (ipykernel)",
   "language": "python",
   "name": "python3"
  },
  "language_info": {
   "codemirror_mode": {
    "name": "ipython",
    "version": 3
   },
   "file_extension": ".py",
   "mimetype": "text/x-python",
   "name": "python",
   "nbconvert_exporter": "python",
   "pygments_lexer": "ipython3",
   "version": "3.9.7"
  }
 },
 "nbformat": 4,
 "nbformat_minor": 5
}
